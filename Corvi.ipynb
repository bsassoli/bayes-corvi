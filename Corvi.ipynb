{
 "cells": [
  {
   "cell_type": "markdown",
   "id": "be70a0ca-d280-4fe5-aa38-8ffd2c363149",
   "metadata": {},
   "source": [
    "# Il teorema di Bayes: un'applicazione pratica"
   ]
  },
  {
   "cell_type": "markdown",
   "id": "30c352a3-9449-4444-9ef8-c38e3a9386eb",
   "metadata": {},
   "source": [
    "Ricordiamo la formulazione del [**teorema di Bayes**](https://it.wikipedia.org/wiki/Teorema_di_Bayes= e vediamone a un caso pratico (ispirato da Michael Strevens, [Notes on Bayesian Confirmation Theory](https://www.strevens.org/bct/BCT.pdf)(2017)):\n",
    "\\begin{align}\n",
    "P(h \\mid e) = \\dfrac{P(e \\mid h)P(h)}{P(e)}\n",
    "\\end{align}\n",
    "\n",
    "Ora immaginiamo di avere tre ipotesi in competizione tra loro, e di non avere ancora alcuno tipo di riscontro empirico:\n",
    "\n",
    "* $h_1$ = tutti i corvi sono neri\n",
    "\n",
    "* $h_2$ = metà dei corvi è nera\n",
    "\n",
    "* $h_3$ = nessun corvo è nero\n",
    "\n",
    "Dato che non ho ancora raccolto alcuna evidenza, assegno alle tre ipotesi la stessa probabilità a priori:\n",
    "$P(h_1)=P(h_2)=P(h_3) = \\dfrac{1}{3}$\n",
    "\n",
    "## 1. Osservo un corvo nero\n",
    "Al tempo $t_1$ osservo un corvo nero. Come cambiano le mie credenze nelle tre ipotesi? Cioè, applicando il teorema di Bayes, quale sarà la probabilità $P(h|e)$ dato $e=\\ ho \\ osservato\\ un\\ corvo \\ nero$ per ognuna di $h_1, h_2, h_3$?\n",
    "\n",
    "Iniziamo osservando che:\n",
    "* $P(e\\mid h_1) = 1.0$ -  la probabilità di osservare un corvo nero dato che so che tutti i corvi sono neri\n",
    "* $P(e\\mid h_2) = 0.5$ -  la probabilità di osservare un corvo nero dato che so che che metà dei corvi sono neri\n",
    "* $P(e \\mid h_3) = 0.0$ -  la probabilità di osservare un corvo nero dato che so che che nessun corvo è nero\n",
    "\n",
    "A questo punto per applicare il teorema di Bayes mi manca solo il denominatore, cioè $P(e)$, la probabilità di osservare un corvo nero. Per calcolare $P(e)$ posso applicare il [teorema della probabilità totale](https://it.wikipedia.org/wiki/Teorema_della_probabilit%C3%A0_totale):\n",
    "\\begin{align}\n",
    "P(e) &= P(e \\mid h_1)P(h_1) + P(e \\mid h_2)P(h_2) + P(e \\mid h_3)P(h_3)\\\\&= 1 \\times \\frac{1}{3} + \\frac{1}{2} \\times \\frac{1}{3} + 0 \\times \\frac{1}{3}\\\\&= \\frac{1}{2}\n",
    "\\end{align}\n",
    "Di conseguenza, dopo aver osservato un corvo avrò:\n",
    "* $P(h_1\\mid e) = \\dfrac{1 \\times \\dfrac{1}{3}}{\\dfrac{1}{2}}=\\dfrac{2}{3}$\n",
    "* $P(h_2\\mid e) = \\dfrac{\\dfrac{1}{2} \\times \\dfrac{1}{3}}{\\dfrac{1}{2}}=\\dfrac{1}{3}$\n",
    "* $P(h_3\\mid e) = \\dfrac{0\\times \\dfrac{1}{3}}{\\dfrac{1}{2}}=0$\n",
    "\n",
    "\n",
    "La probabilità della prima ipotesi $h_1$, che tutti i corvi siano neri, è raddoppiata, passando da 1/3 a 2/3; quella dell'ipotesi che metà dei corvi siano neri, $h_2$, è rimasta immutata; mentre la probabilità dell'ipotesi $h_3$, che nessun corvo sia nero è ora  pari a 0 (come intuitivamente ci aspettiamo che sia), e possiamo di conseguenza scartare tale ipotesi.\n",
    "\n",
    "## 2. Osservo un secondo corvo nero\n",
    "Cosa succede se a questo punto osservo un secondo corvo nero?\n",
    "Per prima cosa dovrò calcolare qual è $P(e)$ a questo stadio utilizzando di nuovo il teorema della probabilità totale:\n",
    "\\begin{align}\n",
    "P(e) &= P(e \\mid h_1)P(h_1) + P(e \\mid h_2)P(h_2)\\\\&= 1 \\times \\frac{2}{3} + \\frac{1}{2} \\times \\frac{1}{3}\\\\&= \\frac{5}{6}\n",
    "\\end{align}\n",
    "E, applicando nuovamente il teorema di Bayes, avrò:\n",
    "\n",
    "* $P(h_1\\mid e) = \\dfrac{1 \\times \\dfrac{2}{3}}{\\dfrac{5}{6}}=\\dfrac{4}{5}$\n",
    "* $P(h_2\\mid e) = \\dfrac{\\dfrac{1}{2} \\times \\dfrac{1}{3}}{\\dfrac{5}{6}}=\\dfrac{1}{5}$"
   ]
  },
  {
   "cell_type": "markdown",
   "id": "c4cf5c2d-c3fd-4704-a460-be61c1d1e321",
   "metadata": {},
   "source": [
    "1. Se un’ipotesi è logicamente incoerente con l’evidenza, dopo la condizionalizzazione la sua probabilità va a zero.\n",
    "2.\tUna volta che la probabilità di un’ipotesi scende a zero, non può mai risalire. L’ipotesi viene eliminata.\n",
    "3.\tL’ipotesi che assegna la più alta probabilità all’evidenza osservata (h1 nell’esempio) riceve il maggior incremento di probabilità dall’osservazione dell’evidenza. Un’ipotesi che assegna probabilità uno all’evidenza riceverà il massimo incremento possibile nelle circostanze.\n",
    "4.\tSe un’ipotesi è coerente con l’evidenza, la sua probabilità non può mai scendere a zero, anche se può avvicinarsi a zero quanto si desidera (come accadrebbe alla probabilità di h2 se venissero osservati solo corvi neri).\n",
    "5.\tDopo la condizionalizzazione, le tue probabilità soggettive per un insieme di ipotesi mutuamente esclusive ed esaustive (come h1, h2 e h3) si sommeranno sempre a uno.\n",
    "6.\tMan mano che un’ipotesi diventa dominante, nel senso che la sua probabilità si avvicina a uno, il suo incremento di probabilità derivante da ulteriori predizioni di successo diminuisce (anche se c’è sempre un incremento)."
   ]
  },
  {
   "cell_type": "code",
   "execution_count": 248,
   "id": "3987f33c-2403-41f8-8255-848104405e38",
   "metadata": {},
   "outputs": [
    {
     "data": {
      "application/vnd.jupyter.widget-view+json": {
       "model_id": "e6a1589b5e154cf38c5b4985cff4b700",
       "version_major": 2,
       "version_minor": 0
      },
      "text/plain": [
       "interactive(children=(IntSlider(value=4, description='Corvi neri:', max=20), Output()), _dom_classes=('widget-…"
      ]
     },
     "metadata": {},
     "output_type": "display_data"
    }
   ],
   "source": [
    "import numpy as np\n",
    "import matplotlib.pyplot as plt\n",
    "from ipywidgets import interact, IntSlider\n",
    "%matplotlib inline\n",
    "\n",
    "def update_probabilities(hypotheses, num_observations):\n",
    "    probabilities = np.ones(3) / 3  # Initial equal probabilities\n",
    "    probability_history = [probabilities.copy()]\n",
    "    c_e_history = [0.5]  # Initial C(e)\n",
    "    \n",
    "    for _ in range(num_observations):\n",
    "        c_e = np.sum(hypotheses * probabilities)\n",
    "        probabilities = hypotheses * probabilities / c_e\n",
    "        probability_history.append(probabilities.copy())\n",
    "        c_e_history.append(c_e)\n",
    "    \n",
    "    return np.array(probability_history), np.array(c_e_history)\n",
    "\n",
    "def plot_probabilities(num_observations):\n",
    "    hypotheses = np.array([1.0, 0.5, 0.0])  # h1, h2, h3\n",
    "    prob_history, c_e_history = update_probabilities(hypotheses, num_observations)\n",
    "    \n",
    "    fig, (ax1, ax2) = plt.subplots(2, 1, figsize=(10, 12))\n",
    "    \n",
    "    # Plot probabilities\n",
    "    ax1.plot(prob_history[:, 0], label='h1 (tutti neri)', marker='o')\n",
    "    ax1.plot(prob_history[:, 1], label='h2 (metà neri)', marker='s')\n",
    "    ax1.plot(prob_history[:, 2], label='h3 (zero neri)', marker='^')\n",
    "    # ax1.set_xlabel('Numero di corvi neri osservati')\n",
    "    ax1.set_ylabel('Probabilità')\n",
    "    ax1.set_title('Evoluzione della probabilità delle ipotesi')\n",
    "    ax1.legend()\n",
    "    ax1.grid(False)\n",
    "\n",
    "    # Plot C(e)\n",
    "    ax2.plot(c_e_history, label='C(e)', marker='o', color='purple')\n",
    "    ax2.set_xlabel('Numero di corvi neri osservati')\n",
    "    ax2.set_ylabel('C(e)')\n",
    "    ax2.set_title('Evoluzione di C(e)')\n",
    "    ax2.legend()\n",
    "    ax2.grid(False)\n",
    "    \n",
    "    plt.tight_layout()\n",
    "    plt.show()\n",
    "    \n",
    "    # Print final probabilities and next raven prediction\n",
    "    print(f\"\\nProbabilità dopo {num_observations} osservazioni:\")\n",
    "    print(f\"h1 (tutti neri): {prob_history[-1, 0]:.6f}\")\n",
    "    print(f\"h2 (metà neri): {prob_history[-1, 1]:.6f}\")\n",
    "    print(f\"h3 (nessuno nero): {prob_history[-1, 2]:.6f}\")\n",
    "    \n",
    "    next_raven_black_prob = np.sum(hypotheses * prob_history[-1])\n",
    "    print(f\"\\nCredenza che il prossimo corvo sarà nero: {next_raven_black_prob:.6f}\")\n",
    "\n",
    "# Create interactive widget\n",
    "interact(plot_probabilities, num_observations=IntSlider(min=0, max=20, step=1, value=4, description='Corvi neri:'));"
   ]
  },
  {
   "cell_type": "code",
   "execution_count": null,
   "id": "077ab9d1-5389-4790-9e83-97e582fa58dc",
   "metadata": {},
   "outputs": [],
   "source": []
  },
  {
   "cell_type": "code",
   "execution_count": null,
   "id": "529e6676-8b15-43e3-91a3-eb6eb9c89996",
   "metadata": {},
   "outputs": [],
   "source": []
  }
 ],
 "metadata": {
  "kernelspec": {
   "display_name": "venv",
   "language": "python",
   "name": "venv"
  },
  "language_info": {
   "codemirror_mode": {
    "name": "ipython",
    "version": 3
   },
   "file_extension": ".py",
   "mimetype": "text/x-python",
   "name": "python",
   "nbconvert_exporter": "python",
   "pygments_lexer": "ipython3",
   "version": "3.12.5"
  }
 },
 "nbformat": 4,
 "nbformat_minor": 5
}
